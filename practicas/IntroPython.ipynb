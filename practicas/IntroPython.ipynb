{
 "cells": [
  {
   "cell_type": "markdown",
   "metadata": {
    "id": "8j0f1scVouTD"
   },
   "source": [
    "# Introduccion a Python 2022\n",
    "Autores:\n",
    "\n",
    "Dr. Leonardo Albarracín, FACET-UNT / CONICET\n",
    "\n",
    "\n",
    "Dra. M. Graciela Molina, FACET-UNT / CONICET\n"
   ]
  },
  {
   "cell_type": "markdown",
   "metadata": {
    "id": "8V6Ujxx2ouTE"
   },
   "source": [
    "  - Python es un lenguaje de programación de scripting orientado a objetos\n",
    "  - Es un lenguaje interpretado.\n",
    "  - Nos permite interactuar con otros lenguajes e incorporarlos a nuestros códigos.\n",
    "  - Tipado dinámico\n",
    "  - Duck typing\n",
    "  \n",
    "\n",
    "        + Algunas páginas que suelen tener mucha información y bibliografía:\n",
    "             http://www.python.org.ar/\n",
    "\n",
    "             https://djangogirls.org/\n",
    "\n",
    "             https://www.programiz.com/python-programming\n",
    "\n",
    "             https://realpython.com/\n",
    "\n",
    "             https://www.python.org/dev/peps/pep-0008/\n",
    "             \n"
   ]
  },
  {
   "cell_type": "code",
   "execution_count": null,
   "metadata": {
    "id": "_1iykdduD08z"
   },
   "outputs": [],
   "source": [
    "print(\"hola\")"
   ]
  },
  {
   "cell_type": "markdown",
   "metadata": {
    "id": "0o6M-6S7ouTF"
   },
   "source": [
    "## ¿Por qué python?\n",
    "* Easy to learn\n",
    "* Es rápido escribir código\n",
    "* Muchos recursos disponibles\n",
    "* Multiplataforma (Windows, Linux, Mac)"
   ]
  },
  {
   "cell_type": "markdown",
   "metadata": {
    "id": "gT5f1fvSouTG"
   },
   "source": [
    "# TUTORIAL DE PYTHON EN GOOGLE COLABS\n",
    "\n",
    "Google Colaboratory es un entorno gratuito de Jupyter Notebook que no requiere configuración y que se ejecuta completamente en la nube. Permite integrar en un mismo documento, tanto celdashde código como texto, gráficas o imágenes.\n",
    "\n",
    "En este tutorial, encontraran bloques de código listo para ejecutar, y otros en donde uds tendran que codificar. "
   ]
  },
  {
   "cell_type": "markdown",
   "metadata": {
    "id": "V6vXoWmXouTJ"
   },
   "source": [
    "## Comentarios"
   ]
  },
  {
   "cell_type": "code",
   "execution_count": null,
   "metadata": {
    "id": "9jQPdRzaouTK"
   },
   "outputs": [],
   "source": [
    "'''\n",
    "Comentario largo,\n",
    "ocupa varias líneas\n",
    "en Python.\n",
    "Deben estar encerradas por triple comilla simple/doble.\n",
    "\n",
    "Este es un comentario\n",
    "usando comillas simples\n",
    "'''\n",
    "\n",
    "\n",
    "\n",
    "\"\"\"\n",
    "Este es un comentario\n",
    "usando comillas dobles\n",
    "\"\"\"\n",
    "# comentario para una linea\n",
    "\n",
    "#print es una funcion que permite escribir en pantalla\n",
    "print(\"Hola mundo\") \n"
   ]
  },
  {
   "cell_type": "markdown",
   "metadata": {
    "id": "3X82CAS2ouTQ"
   },
   "source": [
    "\n",
    "**EJERCICIO:** Escribir una sentencia que imprima en pantalla: \"Bienvenido al curso\""
   ]
  },
  {
   "cell_type": "code",
   "execution_count": null,
   "metadata": {
    "id": "4vOkT3kCouTR"
   },
   "outputs": [],
   "source": []
  },
  {
   "cell_type": "markdown",
   "metadata": {
    "id": "H0_bQt3oouTV"
   },
   "source": [
    "## Tipos de Datos\n",
    "\n",
    "### Algunos de los tipos básicos de datos en Python son:\n",
    "* int - para representar números enteros\n",
    "* long - para representar números enteros largos\n",
    "* float - para representar números reales\n",
    "* bool - para representar valores booleanos\n",
    "* complex - para representar números complejos (1+2j)\n",
    "* NoneType - Tipo especial del valor None\n",
    "\n",
    "**La función type() nos permite saber qué tipo de dato es una variable o un dato en particular**"
   ]
  },
  {
   "cell_type": "code",
   "execution_count": null,
   "metadata": {
    "id": "943DZq_mouTW"
   },
   "outputs": [],
   "source": []
  },
  {
   "cell_type": "markdown",
   "metadata": {
    "id": "TvBTZ9eqouTb"
   },
   "source": [
    " **EJERCICIO:** "
   ]
  },
  {
   "cell_type": "code",
   "execution_count": null,
   "metadata": {
    "id": "cnXq2BtSouTb"
   },
   "outputs": [],
   "source": [
    "#Imprimir qué tipo de dato es 3\n"
   ]
  },
  {
   "cell_type": "code",
   "execution_count": null,
   "metadata": {
    "id": "bkx5bm7vouTg"
   },
   "outputs": [],
   "source": [
    "#Imprimir qué tipo de dato es 'hola'\n"
   ]
  },
  {
   "cell_type": "markdown",
   "metadata": {
    "id": "HXS1e_L6ouTk"
   },
   "source": [
    "**Operaciones básicas:**\n",
    "\n",
    "| operación | operador |\n",
    "| :-------: | :------: |\n",
    "| suma      | +        |\n",
    "| resta     | -        |\n",
    "| multiplicación | *   |\n",
    "| división  | /        |\n",
    "| división entera | // |\n",
    "| módulo    | %        |\n",
    "| potencia | **    |\n",
    "\n",
    "\n",
    "\n",
    "\n",
    "\n",
    "**OJO: El resultado de la división es diferente en Python 2 y 3.**\n",
    "\n",
    "En Metodos Numericos I utilizaremos la version 3 de Python"
   ]
  },
  {
   "cell_type": "markdown",
   "metadata": {
    "id": "l6uGwF-touTl"
   },
   "source": [
    "### Algunas operaciones"
   ]
  },
  {
   "cell_type": "code",
   "execution_count": null,
   "metadata": {
    "id": "QM7ndUWnouTm",
    "scrolled": true
   },
   "outputs": [],
   "source": [
    "3**2  #Potencia 3^2"
   ]
  },
  {
   "cell_type": "code",
   "execution_count": null,
   "metadata": {
    "id": "oqr_MUc7ouTr"
   },
   "outputs": [],
   "source": [
    "10/3  #division"
   ]
  },
  {
   "cell_type": "code",
   "execution_count": null,
   "metadata": {
    "id": "Bo5nxR04ouTu"
   },
   "outputs": [],
   "source": [
    "10//3 #division entera"
   ]
  },
  {
   "cell_type": "markdown",
   "metadata": {
    "id": "Hkz-aunLouTy"
   },
   "source": [
    "**Tambien existen operadores booleanos**\n",
    "\n",
    "+ Nos permitiran la toma de desiciones en sentencias if, for, etc.\n",
    "\n",
    "| operación | operador |\n",
    "| :-------: | :------: |\n",
    "| igualdad      | ==        |\n",
    "| desigualdad     | !=        |\n",
    "| mayor | >   |\n",
    "| menor  | <        |\n",
    "| mayor igual | >= |\n",
    "| menor igual    | <=        |"
   ]
  },
  {
   "cell_type": "markdown",
   "metadata": {
    "id": "B0lsOCaYouTz"
   },
   "source": [
    "# Comparaciones\n",
    "\n",
    "- mayor, menor, igual, distinto, mayor o igual, menor o igual\n",
    "- or, and, not\n"
   ]
  },
  {
   "cell_type": "code",
   "execution_count": null,
   "metadata": {
    "id": "piT0euukouT0",
    "scrolled": true
   },
   "outputs": [],
   "source": [
    "3 <= 2"
   ]
  },
  {
   "cell_type": "code",
   "execution_count": null,
   "metadata": {
    "id": "6QVf6ybFouT4"
   },
   "outputs": [],
   "source": [
    "3 >= 2"
   ]
  },
  {
   "cell_type": "markdown",
   "metadata": {
    "id": "eNzxFG-aouT_"
   },
   "source": [
    "Ejemplo de igualdad y distinto. Asignar a la variable **a** con 5 "
   ]
  },
  {
   "cell_type": "code",
   "execution_count": null,
   "metadata": {
    "id": "RLKQ7o2houUA"
   },
   "outputs": [],
   "source": [
    "a = 5"
   ]
  },
  {
   "cell_type": "code",
   "execution_count": null,
   "metadata": {
    "id": "BbcgL_1douUD"
   },
   "outputs": [],
   "source": [
    "a == 5"
   ]
  },
  {
   "cell_type": "code",
   "execution_count": null,
   "metadata": {
    "id": "3xkpNy-GouUH"
   },
   "outputs": [],
   "source": [
    "a != 5"
   ]
  },
  {
   "cell_type": "markdown",
   "metadata": {
    "id": "A1jSOhz2ouUL"
   },
   "source": [
    "# Definiendo variables"
   ]
  },
  {
   "cell_type": "code",
   "execution_count": null,
   "metadata": {
    "id": "Q5nMcFETaIeD"
   },
   "outputs": [],
   "source": []
  },
  {
   "cell_type": "markdown",
   "metadata": {
    "id": "pnqcHm4gouUM"
   },
   "source": [
    "    - Una variable es designar un espacio en la memoria con un dato específico. \n",
    "    - Las variables no tienen un tipo asociado en Python. \n",
    "    \n",
    "La variable variable_1 no está definida para un tipo específico, como sucede en otros lenguajes de programación. De hecho, podríamos reasignar valores a una variable simplemente declarandolo de este modo:\n",
    "\n",
    "```python\n",
    "variable_1 = \"Graciela\"\n",
    "\n",
    "variable_1 = 2021\n",
    "```\n",
    "Ademas, hay palabras claves que por ende estarán prohibidas para nombrar variables prohibidas!"
   ]
  },
  {
   "cell_type": "code",
   "execution_count": null,
   "metadata": {
    "id": "Px3rKpy1ouUN"
   },
   "outputs": [],
   "source": [
    "variable_1=\"Graciela\"\n",
    "print(variable_1)\n",
    "variable_1=2021\n",
    "print(variable_1)"
   ]
  },
  {
   "cell_type": "code",
   "execution_count": null,
   "metadata": {
    "colab": {
     "base_uri": "https://localhost:8080/",
     "height": 128
    },
    "id": "W8aXSVWfouUQ",
    "outputId": "8280447f-1f89-43ca-b1ce-47d5466af116"
   },
   "outputs": [
    {
     "ename": "SyntaxError",
     "evalue": "ignored",
     "output_type": "error",
     "traceback": [
      "\u001b[0;36m  File \u001b[0;32m\"<ipython-input-1-87a3aa38c43c>\"\u001b[0;36m, line \u001b[0;32m1\u001b[0m\n\u001b[0;31m    global=\"soy una variable\"\u001b[0m\n\u001b[0m          ^\u001b[0m\n\u001b[0;31mSyntaxError\u001b[0m\u001b[0;31m:\u001b[0m invalid syntax\n"
     ]
    }
   ],
   "source": [
    "global=\"soy una variable\"\n",
    "print(global)\n",
    "\n",
    "#Este ejemplo deberá dar un error de sintaxis"
   ]
  },
  {
   "cell_type": "code",
   "execution_count": null,
   "metadata": {
    "colab": {
     "base_uri": "https://localhost:8080/",
     "height": 54
    },
    "id": "hncj5rsfouUV",
    "outputId": "0c6af3bd-ce42-4ced-a8f5-0192916cddbd",
    "scrolled": true
   },
   "outputs": [
    {
     "name": "stdout",
     "output_type": "stream",
     "text": [
      "['False', 'None', 'True', 'and', 'as', 'assert', 'break', 'class', 'continue', 'def', 'del', 'elif', 'else', 'except', 'finally', 'for', 'from', 'global', 'if', 'import', 'in', 'is', 'lambda', 'nonlocal', 'not', 'or', 'pass', 'raise', 'return', 'try', 'while', 'with', 'yield']\n"
     ]
    }
   ],
   "source": [
    "#Palabras reservadas\n",
    "\n",
    "import keyword\n",
    "print(keyword.kwlist)"
   ]
  },
  {
   "cell_type": "markdown",
   "metadata": {
    "id": "GAQ60WiQouUY"
   },
   "source": [
    "# Operaciones con variables\n",
    "\n",
    "+ Se usan los identificadores para operar.\n",
    "+ Cada variable tiene asociado un tipo (ver con type).\n",
    "\n",
    "**EJERCICIO**: Crear una celda y declarar una variable de nombre 'mi_variable' que tenga como valor 3"
   ]
  },
  {
   "cell_type": "code",
   "execution_count": null,
   "metadata": {
    "id": "xP0laDQW6AmE"
   },
   "outputs": [],
   "source": []
  },
  {
   "cell_type": "markdown",
   "metadata": {
    "id": "ZCE2zKovouUc"
   },
   "source": [
    "**EJERCICIO**: Crear una celda y declarar una variable denominada 'doble', que tenga como valor el doble del valor de 'mi_variable'. Imprima el resultado"
   ]
  },
  {
   "cell_type": "code",
   "execution_count": null,
   "metadata": {
    "id": "5t9-kg7e6BSI"
   },
   "outputs": [],
   "source": []
  },
  {
   "cell_type": "markdown",
   "metadata": {
    "id": "nbuyKbWSouUg"
   },
   "source": [
    "## Strings\n",
    "+ **String** es un tipo de dato que representa una sucesión, o cadena, de caracteres. \n",
    "+ Un string se obtiene simplemente escribiendo los caracteres/el caracter entre comillas. \n",
    "```python\n",
    "mi_string = \"este es mi primer string\"\n",
    "```\n",
    "+ Python trata las comillas simples al igual que las comillas dobles.\n",
    "+ En un string el primer caracter tiene índice cero.\n",
    "\n",
    "**PREGUNTA**: \n"
   ]
  },
  {
   "cell_type": "markdown",
   "metadata": {
    "id": "OED2GYUlouUh"
   },
   "source": [
    "¿Qué resultado nos daría la siguiente operación?: \n",
    "```python\n",
    "type(1) == type('1')\n",
    "```"
   ]
  },
  {
   "cell_type": "code",
   "execution_count": null,
   "metadata": {
    "id": "2S64hZwuouUi"
   },
   "outputs": [],
   "source": []
  },
  {
   "cell_type": "markdown",
   "metadata": {
    "id": "sRhfROePouUl",
    "scrolled": true
   },
   "source": [
    "¿Y qué resultado nos daría la siguiente operación?: \n",
    "```python\n",
    "\"python\" == 'Python'\n",
    "```\n"
   ]
  },
  {
   "cell_type": "code",
   "execution_count": null,
   "metadata": {
    "id": "-dyRcUtTouUm"
   },
   "outputs": [],
   "source": []
  },
  {
   "cell_type": "markdown",
   "metadata": {
    "id": "NTP9zTAPouUp"
   },
   "source": [
    "## ¡CUIDADO!\n",
    "\n",
    "De vez en cuando suceden cosas extrañas.\n",
    "\n",
    "¿Qué pasa si se incluyen comillas dentro de otras comillas?"
   ]
  },
  {
   "cell_type": "code",
   "execution_count": null,
   "metadata": {
    "colab": {
     "base_uri": "https://localhost:8080/",
     "height": 128
    },
    "id": "k9gB-NI3ouUq",
    "outputId": "5877748b-ce3a-4775-a034-b59a6f750a3f"
   },
   "outputs": [
    {
     "ename": "SyntaxError",
     "evalue": "ignored",
     "output_type": "error",
     "traceback": [
      "\u001b[0;36m  File \u001b[0;32m\"<ipython-input-6-f13b752c8af8>\"\u001b[0;36m, line \u001b[0;32m1\u001b[0m\n\u001b[0;31m    noticiaConError = \"\"MNI\" se dicta los lunes y jueves\"\u001b[0m\n\u001b[0m                          ^\u001b[0m\n\u001b[0;31mSyntaxError\u001b[0m\u001b[0;31m:\u001b[0m invalid syntax\n"
     ]
    }
   ],
   "source": [
    "noticiaConError = \"\"MNI\" se dicta los lunes y jueves\"\n",
    "print(noticiaConError)"
   ]
  },
  {
   "cell_type": "code",
   "execution_count": null,
   "metadata": {
    "id": "I58EZKGMouUw"
   },
   "outputs": [],
   "source": [
    "\"\"\"\n",
    "Observe que las comillas interiores son diferentes a las que definen el string\n",
    "\"\"\"\n",
    "\n",
    "unaNoticia = \"La primer clase de 'MNI' fue el lunes\"\n",
    "print(unaNoticia)"
   ]
  },
  {
   "cell_type": "markdown",
   "metadata": {
    "id": "zgiL81_xouU0"
   },
   "source": [
    "**Existen secuencias especiales como \\n (linea nueva) o \\t (tabulación) que tienen efectos sobre la visualización:**"
   ]
  },
  {
   "cell_type": "code",
   "execution_count": null,
   "metadata": {
    "id": "W-ZAbNGJouU1",
    "scrolled": true
   },
   "outputs": [],
   "source": [
    "dosLineas = \"Esto aparece escrito en dos lineas\\n\"\n",
    "print(dosLineas + dosLineas) # incluir el signo '+' permite concatenar cadenas de texto, pero no es la unica forma de hacerlo."
   ]
  },
  {
   "cell_type": "markdown",
   "metadata": {
    "id": "nwGpcUp4ouU4"
   },
   "source": [
    "**Distintas formas de escribir texto combinando variables:**"
   ]
  },
  {
   "cell_type": "code",
   "execution_count": null,
   "metadata": {
    "id": "JWMrOH_pouU5"
   },
   "outputs": [],
   "source": [
    "materia = \"Metodos numericos I\" \n",
    "\n",
    "print(materia + \" se dicta los lunes y martes\")\n",
    "print(materia, \"se dicta los lunes y martes\")\n",
    "print(f'{materia} se dicta los lunes y martes')\n"
   ]
  },
  {
   "cell_type": "markdown",
   "metadata": {
    "id": "HjhKayR7ouU8"
   },
   "source": [
    "**CASTING**\n",
    "\n",
    "Puede haber ocasiones en las que desee especificar un tipo en una variable.\n",
    "\n",
    "La función **str()** convierte valores a string.\n",
    "\n",
    "La función **int()** convierte valores a entero.\n",
    "\n",
    "La función **float()** convierte valores a punto flotante.\n",
    "\n",
    "\n",
    "**EJEMPLO**: "
   ]
  },
  {
   "cell_type": "code",
   "execution_count": null,
   "metadata": {
    "id": "l9YROuMIouU9"
   },
   "outputs": [],
   "source": [
    "#convertir la variable 'doble' en un string\n",
    "cc = doble         #completar sentencia\n",
    "print(cc)\n",
    "print(type(cc))"
   ]
  },
  {
   "cell_type": "markdown",
   "metadata": {
    "id": "HzlJoe5JouVA"
   },
   "source": [
    "## Acceso a los elementos de la cadena."
   ]
  },
  {
   "cell_type": "markdown",
   "metadata": {
    "id": "kFZ34PpPouVB"
   },
   "source": [
    "Se puede acceder a los caracteres individuales de un string, del siguiente modo:\n",
    "\n",
    "    texto = \"Licenciatura en Informatica\"\n",
    "    print(texto[3])\n",
    "    \n",
    "De esta forma accedemos al cuarto caracter de nuestro string. \n",
    "\n",
    "A tener en cuenta, el indice comienza en 0 como en lenguaje C\n",
    "\n",
    "**EJEMPLO**"
   ]
  },
  {
   "cell_type": "code",
   "execution_count": null,
   "metadata": {
    "id": "KpuOjIiwouVC"
   },
   "outputs": [],
   "source": [
    "texto = \"Licenciatura en Informatica\"\n",
    "print(texto[3])\n"
   ]
  },
  {
   "cell_type": "markdown",
   "metadata": {
    "id": "_eUwbBOXouVF"
   },
   "source": [
    "Se puede acceder a un rango de caracteres de un string, del siguiente modo:\n",
    "\n",
    "    texto = \"Licenciatura en Informatica\"\n",
    "    print(texto[3:5])\n",
    "    \n",
    "*Para pensar y completar...*\n",
    "\n",
    "De esta forma accedemos desde el caracter ...... al caracter ......  "
   ]
  },
  {
   "cell_type": "code",
   "execution_count": null,
   "metadata": {
    "id": "nK6NRJH6ouVG"
   },
   "outputs": [],
   "source": [
    "#Verificamos la respuesta\n",
    "print(texto[3:5]) \n"
   ]
  },
  {
   "cell_type": "markdown",
   "metadata": {
    "id": "YK-mKjPnouVJ"
   },
   "source": [
    "**PREGUNTA**: ¿cuál es el caracter con indice 1 de la variable texto? Verifique"
   ]
  },
  {
   "cell_type": "code",
   "execution_count": null,
   "metadata": {
    "id": "JMW6roo9ouVK"
   },
   "outputs": [],
   "source": []
  },
  {
   "cell_type": "markdown",
   "metadata": {
    "id": "Dc2QySEHouVN"
   },
   "source": [
    "¿Qué ocurre si ejecutamos la siguiente sentecia?"
   ]
  },
  {
   "cell_type": "code",
   "execution_count": null,
   "metadata": {
    "id": "Gpe7ZbxWouVO"
   },
   "outputs": [],
   "source": [
    "texto[1] = 'y'\n",
    "\n",
    "#Investigue porque se produce el error"
   ]
  },
  {
   "cell_type": "code",
   "execution_count": null,
   "metadata": {
    "id": "9PKshuHoouVR"
   },
   "outputs": [],
   "source": [
    "texto2 = texto[:1] + \"y\" + texto[2:]\n",
    "print(texto2)"
   ]
  },
  {
   "cell_type": "markdown",
   "metadata": {
    "id": "sSoO6OWeouVU"
   },
   "source": [
    "# Concatenación de cadenas\n",
    "¿Qué pasa si ejecutas la siguiente celda?\n",
    "\n",
    "```python\n",
    "texto1 = \"MNI\"\n",
    "print(texto + texto1)\n",
    "```\n",
    "\n"
   ]
  },
  {
   "cell_type": "code",
   "execution_count": null,
   "metadata": {
    "id": "gYxIH6F7ouVV"
   },
   "outputs": [],
   "source": [
    "texto1 = \" MNI\"\n",
    "print(texto + texto1)"
   ]
  },
  {
   "cell_type": "markdown",
   "metadata": {
    "id": "qQvAVo1vouVY"
   },
   "source": [
    "# Funciones útiles (métodos para strings)\n",
    "- ejemplos:\n",
    "    - **lower()**: convierte MAYUSCULAS en minusculas.\n",
    "    - **upper()**: convierte minusculas en MAYUSCULAS.\n",
    "    - **len()**: nos permite conocer la longitud (cantidad de caracteres de un string).\n",
    "    - **split('chars')**: divide el string por el caracter dado, obteniendose una lista de strings.\n",
    "    - **count('chars')**: cuenta la ocurrencia del caracter dado en un string.\n",
    "    - **replace('orig', 'reempl')**:reemplaza los caracteres de valor 'origin' por 'reempl'\n",
    "- más sobre cadenas [en la documentación de la librería estándar](http://docs.python.org/3/library/string.html)"
   ]
  },
  {
   "cell_type": "markdown",
   "metadata": {
    "id": "o7dZu2OTouVY"
   },
   "source": [
    "### Se pueden concatenar operaciones"
   ]
  },
  {
   "cell_type": "code",
   "execution_count": null,
   "metadata": {
    "id": "UBrPj2xtouVZ"
   },
   "outputs": [],
   "source": [
    "unTexto = 'Bienvenidos a Metodos Numericos I'\n",
    "conteo = unTexto.lower().count('e')\n",
    "print(\"Conteo de 'e': \", conteo)"
   ]
  },
  {
   "cell_type": "markdown",
   "metadata": {
    "id": "VYWo9WNCouVc"
   },
   "source": [
    "**EJERCICIO**: dada la siguiente frase, calcular el porcentaje de ocurrencia de la letra *r*.\n",
    "```python\n",
    "frase = El hardware es lo que hace a una máquina rápida; el software es lo que hace que una máquina rápida se vuelva lenta. Craig Bruce en 1990.\n",
    "```"
   ]
  },
  {
   "cell_type": "code",
   "execution_count": null,
   "metadata": {
    "id": "6EcnzCntouVd"
   },
   "outputs": [],
   "source": []
  },
  {
   "cell_type": "markdown",
   "metadata": {
    "id": "_dTF1tgLouVf"
   },
   "source": [
    "# Estructuras de datos\n",
    "\n",
    "Las variables que vimos hasta ahora son sencillas y contienen un único **dato**.\n",
    "Python permite usar estructuras de datos más complejas que permiten almacenar y organizar colecciones de datos.\n",
    "Algunas de estas estructuras de datos son:\n",
    "* listas\n",
    "* diccionarios"
   ]
  },
  {
   "cell_type": "markdown",
   "metadata": {
    "id": "BxdgHlYaouVg"
   },
   "source": [
    "## Listas\n",
    " + Son secuencias de elementos, que pueden ser de cualquier tipo: int, float, string e inclusive otras listas.\n",
    " + Mutables y ordenadas.\n",
    " + A cada elemento de la lista le corresponde una posicion o indice, al cual se puede acceder como con las cadenas.\n"
   ]
  },
  {
   "cell_type": "code",
   "execution_count": null,
   "metadata": {
    "colab": {
     "base_uri": "https://localhost:8080/",
     "height": 67
    },
    "id": "fcvL7WeQouVh",
    "outputId": "9e916480-baf7-40c0-ce0a-79575fa638f9"
   },
   "outputs": [
    {
     "name": "stdout",
     "output_type": "stream",
     "text": [
      "[2, 4, 5, 22]\n",
      "['Mamiferos', 'aves']\n",
      "[100, 'hardware', [2, 4, 5, 22]]\n"
     ]
    }
   ],
   "source": [
    "lista1 = [2,4,5,22]\n",
    "print(lista1)\n",
    "lista2 = ['Mamiferos','aves']\n",
    "print(lista2)\n",
    "lista3 = [100, 'hardware', lista1]\n",
    "print(lista3)"
   ]
  },
  {
   "cell_type": "markdown",
   "metadata": {
    "id": "buQjvfyFouVl"
   },
   "source": [
    "**EJEMPLO**: ¿Cómo imprimirias el primer elemento de la lista 1?"
   ]
  },
  {
   "cell_type": "code",
   "execution_count": null,
   "metadata": {
    "id": "FrfdGZaDouVl"
   },
   "outputs": [],
   "source": [
    "print(lista1[0])"
   ]
  },
  {
   "cell_type": "markdown",
   "metadata": {
    "id": "S4bJGbqCouVo"
   },
   "source": [
    "**EJEMPLO**: ¿Cómo imprimirias el primer elemento del tercer elemento de la lista 3?"
   ]
  },
  {
   "cell_type": "code",
   "execution_count": null,
   "metadata": {
    "id": "lQ1jCgdLouVp"
   },
   "outputs": [],
   "source": [
    "print(lista3[2][0])"
   ]
  },
  {
   "cell_type": "markdown",
   "metadata": {
    "id": "jE9w84ceouVv"
   },
   "source": [
    "**Se pueden alterar las listas: agregando o quitando elementos:**\n"
   ]
  },
  {
   "cell_type": "code",
   "execution_count": null,
   "metadata": {
    "id": "IK9lRehVouVv"
   },
   "outputs": [],
   "source": [
    "lista2.append('Anfibios')\n",
    "print(lista2)"
   ]
  },
  {
   "cell_type": "code",
   "execution_count": null,
   "metadata": {
    "id": "q9xsSI20ouVz"
   },
   "outputs": [],
   "source": [
    "lista2.insert(0,'Reptiles')\n",
    "print(lista2)"
   ]
  },
  {
   "cell_type": "code",
   "execution_count": null,
   "metadata": {
    "id": "bnWAgwBFouV2"
   },
   "outputs": [],
   "source": [
    "del lista2[2]\n",
    "print(lista2)"
   ]
  },
  {
   "cell_type": "markdown",
   "metadata": {
    "id": "7IAiCcOMouV5"
   },
   "source": [
    "**Funciones de Listas**\n",
    " - list.append() para agregar elementos\n",
    " - list.insert(index,obj) para insertar un elemento\n",
    " - list.sort() ordenar la lista\n",
    " - len(list) longitud de la lista/cantidad de elementos\n",
    " \n",
    " \n",
    " "
   ]
  },
  {
   "cell_type": "code",
   "execution_count": null,
   "metadata": {
    "id": "kfjYavNFouV5"
   },
   "outputs": [],
   "source": [
    "lista2.pop()\n",
    "print(lista2)"
   ]
  },
  {
   "cell_type": "markdown",
   "metadata": {
    "id": "LoRbwKzSouV8"
   },
   "source": [
    "Se puede operar con las listas. Ejecute los siguientes ejemplos y analice los resultados obtenidos para cada caso.\n"
   ]
  },
  {
   "cell_type": "code",
   "execution_count": null,
   "metadata": {
    "id": "HZGVqjWKouV8"
   },
   "outputs": [],
   "source": [
    "lista1 + lista2"
   ]
  },
  {
   "cell_type": "code",
   "execution_count": null,
   "metadata": {
    "id": "XgeePlGbouV_"
   },
   "outputs": [],
   "source": [
    "lista2*2"
   ]
  },
  {
   "cell_type": "code",
   "execution_count": null,
   "metadata": {
    "id": "MZdZRbLSouWC"
   },
   "outputs": [],
   "source": [
    "min(lista1)"
   ]
  },
  {
   "cell_type": "code",
   "execution_count": null,
   "metadata": {
    "id": "vcVKTNccouWE"
   },
   "outputs": [],
   "source": [
    "max(lista1)"
   ]
  },
  {
   "cell_type": "markdown",
   "metadata": {
    "id": "6Map840PouWG"
   },
   "source": [
    "**EJERCICIO**: Crea una lista vacía denominada 'PU'. Posteriormente agregue los elementos: 'P06' y 'P10'. Imprima el contenido de la lista PU"
   ]
  },
  {
   "cell_type": "code",
   "execution_count": null,
   "metadata": {
    "id": "hm9LaRcZouWG"
   },
   "outputs": [],
   "source": []
  },
  {
   "cell_type": "markdown",
   "metadata": {
    "id": "0NwYfYV7ouWJ"
   },
   "source": [
    "## Diccionarios\n",
    "* Los diccionarios son agrupaciones de datos del tipos Clave -> Valor. No tienen orden. Así como las listas se declaran con corchetes, los diccionarios se declaran con llaves, siguiendo la sintaxis mi_diccionario = {clave_1: \"valor\",clave_2: \"valor\"}\n",
    "```python\n",
    "mamiferos = {\"orangutan\" : 'placentario',\"canguro\" : 'marsupial'}\n",
    "```\n",
    "* Se puede acceder a los valores para cada clave haciendo, por ejemplo:\n",
    "```\n",
    "mamiferos['orangutan']\n",
    "```\n",
    "* ¿Qué cosas quiero hacer un diccionario?\n",
    " * Guardar (o actualizar) un dato con clave\n",
    " * Recuperar un dato por su clave\n",
    " * Saber si una valor dado es una clave\n",
    " * Recuperar todas las claves\n",
    " * Eliminar valores.\n",
    " \n",
    "### Declarar diccionarios"
   ]
  },
  {
   "cell_type": "markdown",
   "metadata": {
    "id": "H-z3V01iouWJ"
   },
   "source": [
    "Con la función **dict()** creamos un nuevo diccionario vacio. Y agregamos valores para distintas claves\n",
    "```python\n",
    "personas = dict()\n",
    "personas['Profesora'] = 'Dra. Graciela Molina'\n",
    "persona['Auxiliar'] = 'Lic. Leonardo Albarracin'\n",
    "```"
   ]
  },
  {
   "cell_type": "markdown",
   "metadata": {
    "collapsed": true,
    "id": "r2IZAzqYouWL"
   },
   "source": [
    "O podemos simplemente declarar el diccionario como una variable, que entre llaves tiene las claves y los valores separados por comas\n",
    "```python\n",
    "Materias = {'LIA':'Algoritmos y Estructuras de Datos I', 'LIB':'Taller I', 'P10':'Metodos Numericos I', 'LIC':'Arquitectura'}\n",
    "\n",
    "```"
   ]
  },
  {
   "cell_type": "markdown",
   "metadata": {
    "id": "6aZ4vrCvouWN"
   },
   "source": [
    "### Acceso a los elementos del diccionario\n",
    "* Las funciones **keys()** y **values()** permiten recuperar listas con las claves y los valores. \n",
    "* No tienen ningún orden."
   ]
  },
  {
   "cell_type": "code",
   "execution_count": null,
   "metadata": {
    "id": "_kQZ5F2souWN"
   },
   "outputs": [],
   "source": [
    "Materias = {'LIA':'Algoritmos y Estructuras de Datos I', 'LIB':'Taller I', 'P10':'Metodos Numericos I', 'LIC':'Arquitectura'}\n",
    "\n",
    "print(Materias)"
   ]
  },
  {
   "cell_type": "code",
   "execution_count": null,
   "metadata": {
    "id": "xuZrEbeYouWP"
   },
   "outputs": [],
   "source": [
    "Materias.keys()"
   ]
  },
  {
   "cell_type": "code",
   "execution_count": null,
   "metadata": {
    "id": "_wfFwgZgouWT"
   },
   "outputs": [],
   "source": [
    "Materias.values()"
   ]
  },
  {
   "cell_type": "code",
   "execution_count": null,
   "metadata": {
    "id": "qJMcruNNouWV"
   },
   "outputs": [],
   "source": [
    "Materias[\"LIA\"]"
   ]
  },
  {
   "cell_type": "markdown",
   "metadata": {
    "id": "-dgnVLosouWY"
   },
   "source": [
    "# Estructuras de control\n",
    "Python, al igual que todos los lenguages de programación, incluye sentencias permiten controlar el flujo del programa. Esto permite tomar desiciones, repetir una tarea y recorrer estructuras de datos. \n",
    "\n",
    "\n",
    "### Estructuración por indentación\n",
    "* La indentación es el espacio que existe entre cada línea de código y el margen.\n",
    "* A diferencia de muchos otros lenguages de programación, la indentación **en python no es sólo por estética sino que define la estructura del código**.\n",
    "\n",
    "### Construcción Loop FOR\n",
    "\n",
    "- los acciones o bloques se identifican por la indentación\n",
    "\n",
    "``` python\n",
    "#EJEMPLO CORRECTO\n",
    "for x in elemento iterable:\n",
    "    orden 1\n",
    "    orden 2\n",
    "\n",
    "    \n",
    "#EJEMPLO INCORRECTO\n",
    "for x in elemento iterable:\n",
    "orden 1\n",
    "orden 2\n",
    "```\n",
    "En el ejemplo incorrecto, no se respeta la identacion, por lo cual no se reconoce las acciones correspondientes al lazo for\n",
    "\n",
    "**Observación:** En la linea en donde se declara el lazo iterativo, la misma termina con 2 puntos (:). Esto identifica que el codigo que se escriba a continuacion, pertenece a esta estructura. La misma regla sirve para las estruturas if y while, y tambien es utilizada al crear funciones definidas por el usuario.\n",
    "\n",
    "\n",
    "**Ejemplo**"
   ]
  },
  {
   "cell_type": "code",
   "execution_count": null,
   "metadata": {
    "colab": {
     "base_uri": "https://localhost:8080/",
     "height": 34
    },
    "id": "ccLJr0oaouWY",
    "outputId": "e0151576-be22-4dc0-93c9-37be5eeedbc1"
   },
   "outputs": [
    {
     "name": "stdout",
     "output_type": "stream",
     "text": [
      "['Prog', 'Algo', 'Tall']\n"
     ]
    }
   ],
   "source": [
    "#Escribir los primeros 4 caracteres de la lista dada\n",
    "\n",
    "lista_materia = ['Programacion','Algoritmos I','Taller de Lenguaje']\n",
    "\n",
    "iniciales = []\n",
    "for i in lista_materia:\n",
    "    ini = i[0:4]\n",
    "    iniciales.append(ini)\n",
    "    \n",
    "print(iniciales)"
   ]
  },
  {
   "cell_type": "markdown",
   "metadata": {
    "id": "I4ewlBX6ouWa"
   },
   "source": [
    "### Todo lo iterable se puede iterar\n",
    "\n",
    "- iterables son objetos que contienen el método \\_\\_iter\\_\\_():\n",
    "    - números que provienen de range, arange, etc\n",
    "    - cadenas de caracteres\n",
    "    - lineas de un archivo de texto\n",
    "    - listas\n",
    "    - diccionarios\n",
    "    - arreglos\n",
    "    - ...\n"
   ]
  },
  {
   "cell_type": "markdown",
   "metadata": {
    "id": "r7s6akynouWb"
   },
   "source": [
    "**Ejercicio:** \n",
    "\n",
    "Siga a lapiz y a papel cada uno de las ejecuciones del lazo for, concluya la salida, y luego verifique su resultado (inserte nuevas celdas).\n",
    "\n",
    "- \n",
    "```python\n",
    "print(\"Comienzo\")\n",
    "for i in [0, 1, 2]:\n",
    "    print(\"Hola. Ahora i vale\", i)\n",
    "print(\"Fin\")\n",
    "```\n",
    "\n",
    "- \n",
    "```python\n",
    "print(\"Comienzo\")\n",
    "for i in [1, 1, 1, 1]:\n",
    "    print(\"Hola. Ahora i vale\", i)\n",
    "print(\"Final\")\n",
    "```\n",
    "\n",
    "- \n",
    "```python\n",
    "print(\"Comienzo\")\n",
    "for i in []:\n",
    "    print(\"Hola. Ahora i vale\", i)\n",
    "print(\"Final\")\n",
    "```\n",
    "\n",
    "- \n",
    "```python\n",
    "print(\"Comienzo\")\n",
    "for i in [\"Alba\", \"Benito\", 27]:\n",
    "    print(\"Hola. Ahora i vale\", i)\n",
    "print(\"Final\")\n",
    "```\n",
    "\n",
    "**Verificacion**"
   ]
  },
  {
   "cell_type": "code",
   "execution_count": null,
   "metadata": {
    "id": "qNhdav9iT2nA"
   },
   "outputs": [],
   "source": []
  },
  {
   "cell_type": "markdown",
   "metadata": {
    "id": "kxpdYwR8ouWk"
   },
   "source": [
    "### Tipo range\n",
    "El tipo range es una lista inmutable de números enteros en sucesión aritmética.\n",
    "\n",
    "Nota: En Python 2, range() se consideraba una función, pero en Python 3 es un tipo de datos , aunque se utiliza como si fuera una función.\n",
    "\n",
    "El tipo range() con un único argumento se escribe range(n) y crea una lista inmutable de n números enteros consecutivos que empieza en 0 y acaba en **n - 1**. \n",
    "\n",
    "**Investigue sobre los otros argumentos de range**\n",
    "\n",
    "Para ver los valores del range(), es necesario convertirlo a lista mediante la función list(), o escribir elemento por elemento.\n",
    "\n",
    "\n",
    "``` python\n",
    "a = range (21)\n",
    "print(a)\n",
    "\n",
    "print(list(a))\n",
    "\n",
    "for i in range(a):\n",
    "    print(i)\n",
    "```"
   ]
  },
  {
   "cell_type": "code",
   "execution_count": null,
   "metadata": {
    "id": "SHzVwWoHouWk"
   },
   "outputs": [],
   "source": [
    "a = range (21)\n",
    "print(a)\n",
    "\n",
    "print(list(a))\n",
    "\n",
    "\n",
    "for i in range(20):\n",
    "    print(i**2)\n"
   ]
  },
  {
   "cell_type": "markdown",
   "metadata": {
    "id": "rJJ8cLBiouWn"
   },
   "source": [
    "## Toma de decisiones: if...else...\n",
    "\n",
    "La estructura general es:\n",
    "```python\n",
    "if condicion:\n",
    "    # Codigo si la condicion es verdadera\n",
    "else :\n",
    "    # Codigo si la condicion es falsa\n",
    "```\n",
    "\n",
    "**los bloques se identifican por la indentación**"
   ]
  },
  {
   "cell_type": "markdown",
   "metadata": {
    "id": "V_6KYYwpouWo"
   },
   "source": [
    "### If evalúa condiciones lógicas\n",
    "\n",
    "+ puede ser una expresión: \n",
    "    \n",
    "    ``` python \n",
    "    if valor > umbral:\n",
    "        Acciones\n",
    "    ```\n",
    "    \n",
    "+ pueden ser expresiones anidadas: \n",
    "    \n",
    "    ``` python \n",
    "    if (valor > piso) and (valor < techo):\n",
    "        Acciones\n",
    "\n",
    "    ```\n",
    "    \n",
    "    **Ejemplo**\n",
    "    \n"
   ]
  },
  {
   "cell_type": "code",
   "execution_count": null,
   "metadata": {
    "id": "-8CglD9youWo"
   },
   "outputs": [],
   "source": [
    "# A partir de una lista de carreras de la FaCET, mostrar las carreras de Ingenieria\n",
    "\n",
    "carreras = ['Lic en Informatica', 'Ing en Informatica', 'Prog Universitario', 'Ing Industrial']\n",
    "\n",
    "for i in carreras:\n",
    "    if 'Ing' in i :\n",
    "        print(i + \" es una ingenieria\")\n",
    "    else:\n",
    "        print('Ups! ' + i + ' no es una Ingenieria')\n"
   ]
  },
  {
   "cell_type": "markdown",
   "metadata": {
    "id": "j6aEo2OgouWq"
   },
   "source": [
    "Modificar el codigo anterior para que muestre las carreras que no son de Ingenieria"
   ]
  },
  {
   "cell_type": "code",
   "execution_count": null,
   "metadata": {
    "id": "AXUQlkemouWq"
   },
   "outputs": [],
   "source": []
  },
  {
   "cell_type": "markdown",
   "metadata": {
    "id": "_z8fKb-vouWs"
   },
   "source": [
    "### Anidando condiciones (elif)\n",
    "\n",
    "La estructura general es:\n",
    "\n",
    "```python\n",
    "if condicion_A:\n",
    "    #Codigo si la condicion_A es verdadera\n",
    "elif condicion_B:\n",
    "    #Codigo si la condicion_B es verdadera\n",
    "elif condicion_C:\n",
    "    #Codigo si no cumple ninguna de las anteriores condiciones\n",
    "\n",
    "```"
   ]
  },
  {
   "cell_type": "code",
   "execution_count": null,
   "metadata": {
    "id": "adYLdZWgouWs"
   },
   "outputs": [],
   "source": [
    "numA = int(input(\"ingrese numero A: \"))\n",
    "numB = int(input(\"ingrese numero b: \"))\n",
    "\n",
    "if numA > numB:\n",
    "    print(\"numero A es mayor\")\n",
    "elif numA < numB:\n",
    "    print(\"numero B es mayor\")\n",
    "else:\n",
    "    print(\"Ambos numeros son iguales\")"
   ]
  },
  {
   "cell_type": "markdown",
   "metadata": {
    "id": "Qp8z6NIpLv3k"
   },
   "source": [
    "En el ejemplo anterior, investigue que realiza la funcion input."
   ]
  },
  {
   "cell_type": "markdown",
   "metadata": {
    "id": "S0Sd09NLouWu"
   },
   "source": [
    "## Construccion del Mientras\n",
    "\n",
    "\n",
    "``` python\n",
    "while condicion:\n",
    "    acciones\n",
    "```\n",
    "\n"
   ]
  },
  {
   "cell_type": "code",
   "execution_count": null,
   "metadata": {
    "id": "3NL0lvY0ouWu"
   },
   "outputs": [],
   "source": [
    "i = 1\n",
    "while i <= 50:\n",
    "    print(i)\n",
    "    i = 2 * i\n",
    "    \n",
    "print(\"Programa terminado\")"
   ]
  },
  {
   "cell_type": "markdown",
   "metadata": {
    "id": "HYf60M5houWv"
   },
   "source": [
    "**Ejercicio:** Escriba un programa que pida la cantidad de números positivos que se tienen que escribir y a continuación ingrese números hasta que se haya escrito la cantidad de números positivos indicada. \n",
    "\n"
   ]
  },
  {
   "cell_type": "code",
   "execution_count": null,
   "metadata": {
    "id": "W9el50xXouWw"
   },
   "outputs": [],
   "source": []
  },
  {
   "cell_type": "markdown",
   "metadata": {
    "id": "APYYZKg0ouWx"
   },
   "source": [
    "## Módulos (librerías) \n",
    "\n",
    "* Incorporan funcionalidades. \n",
    "* Pueden ser módulos definidos por el usuario.\n",
    "\n",
    "\n",
    "En el archivo \"IntroPyhton 2021.pdf\" encontrará las librerias más utilizadas, y algunos métodos que serán útiles en la materia.\n",
    "\n",
    "### Diferentes sintaxis de \"imports\" / Importando librerías\n",
    "\n",
    "\n",
    "``` python\n",
    "import matplotlib             #Importa todo los metodos de la libreria. Para invocar un metodo es matplotlib.metodo\n",
    "import matplotlib as mpl      #Importa todo los metodos de la libreria, crea un alias llamado mpl. Para invocar un metodo es mpl.metodo\n",
    "from matplotlib import *      #Importa todo los metodos de la libreria. Para invocar un metodo , se escribe directamente el nombre del metodo\n",
    "from matplotlib import pyplot #importa un metodo de la libreria. Ahorra espacio de memoria  \n",
    "from matplotlib import pyplot as plt #importa un metodo de la libreria con un alias. Ahorra espacio de memoria\n",
    "```"
   ]
  },
  {
   "cell_type": "markdown",
   "metadata": {
    "id": "xiT84QtoouWy"
   },
   "source": [
    "# Creando Arrays (Arreglos) usando NumPy\n",
    "\n",
    "**Ejemplos:** \n",
    "Importamos la libreria numpy, y creamos distintos tipos de arreglos usando:\n",
    "* ones\n",
    "* zeros\n",
    "* arange\n",
    "* linspace\n",
    "\n",
    "\n",
    "*help*: usar \"?\" al final del metodo"
   ]
  },
  {
   "cell_type": "code",
   "execution_count": null,
   "metadata": {
    "id": "x2h7-_tJouWy"
   },
   "outputs": [],
   "source": [
    "import numpy as np\n",
    "np.ones?"
   ]
  },
  {
   "cell_type": "code",
   "execution_count": null,
   "metadata": {
    "id": "AuKYV-ENouW1"
   },
   "outputs": [],
   "source": [
    "import numpy as np\n",
    "\n",
    "np.ones([5,5])"
   ]
  },
  {
   "cell_type": "code",
   "execution_count": null,
   "metadata": {
    "id": "MFQU7C0iouW3"
   },
   "outputs": [],
   "source": [
    "np.zeros(5)"
   ]
  },
  {
   "cell_type": "code",
   "execution_count": null,
   "metadata": {
    "id": "uBCVNWqjouW5"
   },
   "outputs": [],
   "source": [
    "np.arange(0,2,.1)\n"
   ]
  },
  {
   "cell_type": "code",
   "execution_count": null,
   "metadata": {
    "id": "cQaAZatzouW7"
   },
   "outputs": [],
   "source": [
    "np.linspace(0,2,100)\n"
   ]
  },
  {
   "cell_type": "markdown",
   "metadata": {
    "id": "AyO5Fc_vouW9"
   },
   "source": [
    "- Explique los resultados obtenidos\n",
    "\n",
    "- ¿Cual es la diferencia entre arange y linspace de NumPy? \n",
    "\n",
    "- ¿Obtenemos los mismos valores para los ejemplos dado de arange y linspace? "
   ]
  },
  {
   "cell_type": "markdown",
   "metadata": {
    "id": "vZzn6QeEouW9"
   },
   "source": [
    "## Copiar arreglos\n"
   ]
  },
  {
   "cell_type": "markdown",
   "metadata": {
    "id": "8xZfUv81ouW-"
   },
   "source": [
    "- **Copiar un array (\"por referencia\").**\n",
    "\n",
    "La copia por referencia se realiza asignando la variable de un array a otra. Después de la asignación ambas variables compartirán los mismos datos en el mismo área de memoria así como los cambios que se produzcan.\n",
    "\n"
   ]
  },
  {
   "cell_type": "code",
   "execution_count": null,
   "metadata": {
    "id": "UlYYBpCOouW-"
   },
   "outputs": [],
   "source": [
    "a = np.array([[1, 2, 3], [4, 5, 6]]) # matriz de 2x3 elementos\n",
    "b = a\n",
    "print(\"matriz a\\n\",a)\n",
    "print(\"matriz b\\n\",b)\n",
    "\n",
    "a[0, 1] = -1 #Modificamos un elemento de la matriz a\n",
    "\n",
    "print(\"valores modificados\")\n",
    "print(\"matriz a\\n\",a)\n",
    "print(\"matriz b\\n\",b)\n"
   ]
  },
  {
   "cell_type": "markdown",
   "metadata": {
    "id": "pNEVkizHouXA"
   },
   "source": [
    "- **Copiar un array (\"por valor\").**\n",
    "\n",
    "Metodo copy()\n",
    "\n",
    "Crea una copia de un array en otra posicion de memoria."
   ]
  },
  {
   "cell_type": "code",
   "execution_count": null,
   "metadata": {
    "id": "Ph-oecVrouXA"
   },
   "outputs": [],
   "source": [
    "vector_a = np.array([1, 2, 3, 4, 5])\n",
    "vector_copia = vector_a.copy()\n",
    "\n",
    "print(\"Vector original: \", vector_a)\n",
    "print(\"\\nVector copia: \", vector_copia)\n",
    "\n",
    "vector_a[0] = 10 #Modificamos el primer elemento de vector_a\n",
    "\n",
    "print(\"\\nValores modificados\")\n",
    "print(\"\\nVector original: \", vector_a)\n",
    "print(\"\\nVector copia: \", vector_copia)"
   ]
  },
  {
   "cell_type": "markdown",
   "metadata": {
    "id": "hNjRfPHeouXC"
   },
   "source": [
    "Existen otras formas de copiar un array por valor, queda como tarea investigarlos y dar ejemplos."
   ]
  },
  {
   "cell_type": "code",
   "execution_count": null,
   "metadata": {
    "id": "Vzw8eipIouXC"
   },
   "outputs": [],
   "source": []
  },
  {
   "cell_type": "markdown",
   "metadata": {
    "id": "DT8bVHQgouXE"
   },
   "source": [
    "# Funciones definidas por el usuario\n",
    "\n",
    "Las funciones se pueden crear en cualquier punto de un programa, escribiendo su definición.\n",
    "\n",
    "La primera línea de la definición de una función contiene:\n",
    "\n",
    "* la palabra reservada ***def***\n",
    "* el nombre de la función\n",
    "* paréntesis (que pueden incluir los argumentos de la función) seguido de \":\" \n",
    "\n",
    "Las instrucciones que forman la función se escriben con sangría con respecto a la primera línea.\n",
    "\n",
    "Se puede indicar el final de la función con la palabra reservada return, aunque no es obligatorio.\n",
    "\n",
    "Para poder utilizar una función en un programa se tiene que haber definido antes. Por ello, normalmente las definiciones de las funciones se suelen escribir al principio de los programas\n",
    "\n",
    "**Ejemplo:**\n",
    "```python\n",
    "def suma(a,b):\n",
    "    return a + b\n",
    "\n",
    "print(suma(5,10))\n",
    "```"
   ]
  },
  {
   "cell_type": "code",
   "execution_count": null,
   "metadata": {
    "id": "m7IM5Oq6ouXE"
   },
   "outputs": [],
   "source": [
    "def NumeroMayor(numA, numB):\n",
    "    \"\"\"\n",
    "    Entrada\n",
    "    a= valor entero\n",
    "    b= valor entero\n",
    "\n",
    "    Salida\n",
    "    retorna un mensaje indicando el mayor\n",
    "    \"\"\"\n",
    "    if numA > numB:\n",
    "      print(\"numero A es mayor\")\n",
    "    elif numA < numB:\n",
    "      print(\"numero B es mayor\")\n",
    "    else:\n",
    "      print(\"Ambos numeros son iguales\")\n",
    "\n",
    "NumeroMayor(5,9)\n",
    "NumeroMayor(15,8)\n",
    "NumeroMayor(5,5)"
   ]
  },
  {
   "cell_type": "markdown",
   "metadata": {
    "id": "GHyLmMT8ouXG"
   },
   "source": [
    "**Ejercicio:** La serie infinita $f(n)=\\sum_{k=1}^n(1/i^4)$ converge a  un valor de $pi^4/90$ conforme n tiende a infinito. Escriba una función para calcular f(n) para distintos valores de n. "
   ]
  },
  {
   "cell_type": "code",
   "execution_count": null,
   "metadata": {
    "id": "IOJmLl_pouXG"
   },
   "outputs": [],
   "source": [
    "import numpy as np\n",
    "import math as m\n",
    "\n",
    "def serie(n):\n",
    "    # Complete la funcion\n",
    "    pass  \n",
    "\n",
    "    \"\"\"\n",
    "        pass es una palabra reservada para indicar que el bloque aun no esta \n",
    "        codificado y no muestre un error al ejecutar. \n",
    "        Se debe borrar al completar el bloque\n",
    "    \"\"\"\n",
    "\n",
    "n_elementos=10**5\n",
    "print(m.pi**4/90)\n",
    "print(serie(n_elementos))"
   ]
  },
  {
   "cell_type": "markdown",
   "metadata": {
    "id": "7FHffLWHouXJ"
   },
   "source": [
    "# Graficos\n",
    "\n",
    "**import matplotlib.pyplot as plt**\n",
    "\n",
    "**figure**(num = None, figsize = (8, 6), dpi = 80, facecolor = 'w', edgecolor = 'k'): Crea la imagen y se puede establecer el formato como tamanio, color de fondo y borde, etc.\n",
    "\n",
    "**subplot**(numRows, numCols, plotNum):Permite incluir varias gráficas en una única figura.\n",
    "\n",
    "**plot**(x, y, linestyle, linewidth, marker):Permite incluir varias gráficas en una única figura. Tanto x como y pueden ser abcisas tuplas, listas o arrays. La única condición es que el tamaño de ambas debe ser el mismo ya que en caso contrario python nos devolverá un fallo de tipo dimesión. \n",
    "\n",
    "**show()**: Presenta las figuras en pantalla.\n",
    "\n",
    "**xlabel**(‘s’, comandos_optativos): Etiqueta el eje X\n",
    "\n",
    "**ylabel**(‘s’, comandos_optativos): Etiqueta el eje Y\n",
    "\n",
    "**title**(‘s’, comandos_optativos): Coloca un titulo a la gráfica\n",
    "\n",
    "**axis**() Establece u obtiene las propiedades de los ejes\n",
    "\n",
    "\n",
    "Mas info de colores: https://matplotlib.org/2.0.2/index.html \n"
   ]
  },
  {
   "cell_type": "markdown",
   "metadata": {
    "id": "3H6x2Gw8ouXK"
   },
   "source": [
    "**Ejemplos:**  Ejecute los siguientes codigos y comente que realiza cada linea.\n",
    "\n",
    "**Codigo 1:**"
   ]
  },
  {
   "cell_type": "code",
   "execution_count": null,
   "metadata": {
    "id": "5tOxex8JouXK"
   },
   "outputs": [],
   "source": [
    "import numpy as np\n",
    "import math as m\n",
    "import matplotlib.pyplot as plt\n",
    "\n",
    "x = np.linspace(1,10,10)\n",
    "y1 = np.cos(x)\n",
    "y2 = x*2\n",
    "print(y2)\n",
    "plt.plot(x,y1,x,y2)\n",
    "\n",
    "#comente la linea 9 y ejecute el codigo con las lineas 12 y 13 sin comentar\n",
    "#plt.plot(x,y1,marker='+')\n",
    "#plt.plot(x,y2,'ro')\n",
    "\n",
    "plt.title(\"Graficas\")\n",
    "plt.legend(('y1','y2'), loc='upper left')\n",
    "plt.xlabel('x')\n",
    "plt.ylabel('y', fontsize=20)\n",
    "plt.show()\n"
   ]
  },
  {
   "cell_type": "markdown",
   "metadata": {
    "id": "G1GR4E9DouXM"
   },
   "source": [
    "**Codigo 2:**"
   ]
  },
  {
   "cell_type": "code",
   "execution_count": null,
   "metadata": {
    "id": "39T6lSDfouXN"
   },
   "outputs": [],
   "source": [
    "import numpy as np\n",
    "import matplotlib.pyplot as plt\n",
    "\n",
    "x = np.linspace(1,10,100)\n",
    "y1 = x**3+3*x+10\n",
    "y2 = x*2\n",
    "y3 = np.cos(x)\n",
    "y4 = np.sin(x)\n",
    "\n",
    "plt.figure(1, (10,6), 50, 'y', 'g')\n",
    "\n",
    "plt.subplot(1,2,1)\n",
    "plt.plot(x,y1)\n",
    "\n",
    "plt.subplot(1,2,2)\n",
    "plt.plot(x,y2)\n",
    "\n",
    "\n",
    "plt.figure(2, (10,6),50,'c','g')\n",
    "\n",
    "#plt.subplot(2,1,1)\n",
    "plt.plot(x,y3)\n",
    "\n",
    "#plt.subplot(2,1,2)\n",
    "plt.plot(x,y4)\n",
    "\n",
    "plt.show()"
   ]
  },
  {
   "cell_type": "markdown",
   "metadata": {
    "id": "wf-DDuLfouXP"
   },
   "source": [
    "**Codigo 3:** Muestre los graficos de las 4 funciones de $y_i$ en 4 paneles distintos dentro de una misma figura."
   ]
  },
  {
   "cell_type": "code",
   "execution_count": null,
   "metadata": {
    "id": "NQ09V04JouXP"
   },
   "outputs": [],
   "source": [
    "#Escriba su codigo aqui\n",
    "import matplotlib.pyplot as plt\n",
    "\n",
    "x = np.linspace(1,10,100)\n",
    "y1 = x**3+3*x+10\n",
    "y2 = x*2\n",
    "y3 = np.cos(x)\n",
    "y4 = np.sin(x)\n",
    "plt.figure(1, (10,10), 50, 'w', 'g')\n",
    "\n",
    "plt.subplot(2,2,1)\n",
    "plt.plot(x,y1)\n",
    "\n",
    "plt.subplot(2,2,2)\n",
    "plt.plot(x,y2)\n",
    "\n",
    "plt.subplot(2,2,3)\n",
    "plt.plot(x,y3)\n",
    "\n",
    "plt.subplot(2,2,4)\n",
    "plt.plot(x,y4)\n",
    "\n",
    "plt.show()"
   ]
  },
  {
   "cell_type": "markdown",
   "metadata": {
    "id": "1I7MHDfPTYGn"
   },
   "source": [
    "# **LECTURA DE ARCHIVOS**\n",
    "\n",
    "Python ofrece diversas funciones para la lectura datos almacenados en archivos de texto plano. El mas sencillo de utilizar, es la funcion loadtxt() de la libreria Numpy."
   ]
  },
  {
   "cell_type": "markdown",
   "metadata": {
    "id": "3K4DC9QwUN0i"
   },
   "source": [
    "### Primero debemos montar nuestro Drive."
   ]
  },
  {
   "cell_type": "code",
   "execution_count": null,
   "metadata": {
    "colab": {
     "base_uri": "https://localhost:8080/"
    },
    "executionInfo": {
     "elapsed": 34959,
     "status": "ok",
     "timestamp": 1659787704426,
     "user": {
      "displayName": "Maria Graciela Molina",
      "userId": "11230818105868153509"
     },
     "user_tz": 180
    },
    "id": "GURA_W7FTyu1",
    "outputId": "0c89ad45-fe3b-484a-b458-6b24a9c05059"
   },
   "outputs": [
    {
     "name": "stdout",
     "output_type": "stream",
     "text": [
      "Mounted at /content/drive\n"
     ]
    }
   ],
   "source": [
    "from google.colab import drive\n",
    "# Esto te va a solicitar autorizacion para acceder a tu Drive. \n",
    "# Entra al link y acepta los permisos. Copia la clave suministrada y pegalo donde te lo solicita\n",
    "drive.mount('/content/drive')"
   ]
  },
  {
   "cell_type": "code",
   "execution_count": null,
   "metadata": {
    "colab": {
     "base_uri": "https://localhost:8080/",
     "height": 56
    },
    "executionInfo": {
     "elapsed": 438,
     "status": "ok",
     "timestamp": 1659787752812,
     "user": {
      "displayName": "Maria Graciela Molina",
      "userId": "11230818105868153509"
     },
     "user_tz": 180
    },
    "id": "ZQMXs8pzU9Mp",
    "outputId": "53e7b5e5-f178-4a9b-c80e-81d3ba1ebefb"
   },
   "outputs": [
    {
     "name": "stdout",
     "output_type": "stream",
     "text": [
      "/content/drive/My Drive/ML@DCAO/TPS\n"
     ]
    },
    {
     "data": {
      "application/vnd.google.colaboratory.intrinsic+json": {
       "type": "string"
      },
      "text/plain": [
       "'/content/drive/My Drive/ML@DCAO/TPS'"
      ]
     },
     "execution_count": 3,
     "metadata": {},
     "output_type": "execute_result"
    }
   ],
   "source": [
    "# Acá seteamos el directorio de trabajo. \n",
    "# La direccion depende de su organizacion.\n",
    "# Recomiendo crear una carpeta en la raiz, asi accederan rapidamente a sus archivos\n",
    "\n",
    "%cd /content/drive/My\\ Drive/ML@DCAO/TPS \n",
    "\n",
    "#Verificamos que nos encontremos en el directorio de trabajo deseado\n",
    "%pwd"
   ]
  },
  {
   "cell_type": "code",
   "execution_count": null,
   "metadata": {
    "colab": {
     "base_uri": "https://localhost:8080/"
    },
    "executionInfo": {
     "elapsed": 3186,
     "status": "ok",
     "timestamp": 1659787765788,
     "user": {
      "displayName": "Maria Graciela Molina",
      "userId": "11230818105868153509"
     },
     "user_tz": 180
    },
    "id": "wbb-HUpEDsGe",
    "outputId": "ec32aaf9-3761-4691-ce87-ef25d87ca20c"
   },
   "outputs": [
    {
     "name": "stdout",
     "output_type": "stream",
     "text": [
      "Drive already mounted at /content/drive; to attempt to forcibly remount, call drive.mount(\"/content/drive\", force_remount=True).\n"
     ]
    }
   ],
   "source": [
    "from google.colab import drive\n",
    "drive.mount('/content/drive')"
   ]
  },
  {
   "cell_type": "markdown",
   "metadata": {
    "id": "3aTp2KhCVbBy"
   },
   "source": [
    "### Accedemos a la informacion del archivo.\n",
    "\n",
    "En la carpeta encontrará 3 archivos:\n",
    "\n",
    "\n",
    "1.   Dst.txt archivo de datos\n",
    "2.   DstFormat.txt archivo de metadatos, explica el formato (#columnas y significado) del contenido del archivo Dst.txt\n",
    "3.   DstUnSoloDia.txt, contiene una lista de valores numericos correspondiente a los valores horarios de Dst para el día 01 Enero de 2018\n",
    "\n",
    "Fuente:https://wdc.kugi.kyoto-u.ac.jp/dstdir/"
   ]
  },
  {
   "cell_type": "markdown",
   "metadata": {
    "id": "P18Rff3BG-p1"
   },
   "source": [
    "En primera instancia trabajamos con el archivo DstUnSoloDia.txt\n"
   ]
  },
  {
   "cell_type": "code",
   "execution_count": null,
   "metadata": {
    "colab": {
     "base_uri": "https://localhost:8080/"
    },
    "executionInfo": {
     "elapsed": 412,
     "status": "ok",
     "timestamp": 1659788311951,
     "user": {
      "displayName": "Maria Graciela Molina",
      "userId": "11230818105868153509"
     },
     "user_tz": 180
    },
    "id": "HK2fP7vvV1Cg",
    "outputId": "27658f51-75d8-46c5-d5cb-5a65d21918b7"
   },
   "outputs": [
    {
     "name": "stdout",
     "output_type": "stream",
     "text": [
      "[ -5  -7 -13 -10 -13 -18 -20 -20 -17 -18 -16 -12  -9  -9 -15 -17 -15 -13\n",
      " -12  -9  -9  -9  -9  -8]\n"
     ]
    }
   ],
   "source": [
    "import numpy as np\n",
    "\n",
    "DstUnSoloDia = np.loadtxt(\"DstUnSoloDia.txt\",dtype=int)\n",
    "\n",
    "#Visualizamos el contenido\n",
    "print(DstUnSoloDia)\n",
    "\n"
   ]
  },
  {
   "cell_type": "code",
   "execution_count": null,
   "metadata": {
    "colab": {
     "base_uri": "https://localhost:8080/",
     "height": 555
    },
    "executionInfo": {
     "elapsed": 27,
     "status": "ok",
     "timestamp": 1659788423333,
     "user": {
      "displayName": "Maria Graciela Molina",
      "userId": "11230818105868153509"
     },
     "user_tz": 180
    },
    "id": "esc3dlAcXuOm",
    "outputId": "5f8a93a4-c784-4dee-fe18-ca3ccbbba42d"
   },
   "outputs": [
    {
     "data": {
      "image/png": "[encoded data removed]",
      "text/plain": [
       "<Figure size 800x600 with 1 Axes>"
      ]
     },
     "metadata": {},
     "output_type": "display_data"
    }
   ],
   "source": [
    "import matplotlib.pyplot as plt\n",
    "\n",
    "plt.figure(num=None, figsize=(8, 6), dpi=100, facecolor='w', edgecolor='k')\n",
    "\n",
    "plt.plot(DstUnSoloDia,\"y*-\")\n",
    "plt.title(\"Dst 01/Enero/2018\")\n",
    "plt.xlabel(\"Horas (UT)\")\n",
    "plt.ylabel(\"Dst [nT]\")\n",
    "plt.savefig(\"Figura_DstUnSoloDia.png\",format=\"png\")\n",
    "plt.show()\n"
   ]
  },
  {
   "cell_type": "markdown",
   "metadata": {
    "id": "DweJ8X2hHJh3"
   },
   "source": [
    "- Explorar diferentes formatos para mejorar la apariencia del gráfico anterior\n"
   ]
  }
 ],
 "metadata": {
  "colab": {
   "collapsed_sections": [
    "APYYZKg0ouWx",
    "xiT84QtoouWy",
    "vZzn6QeEouW9"
   ],
   "name": "IntroPython.ipynb",
   "provenance": []
  },
  "kernelspec": {
   "display_name": "Python 3 (ipykernel)",
   "language": "python",
   "name": "python3"
  },
  "language_info": {
   "codemirror_mode": {
    "name": "ipython",
    "version": 3
   },
   "file_extension": ".py",
   "mimetype": "text/x-python",
   "name": "python",
   "nbconvert_exporter": "python",
   "pygments_lexer": "ipython3",
   "version": "3.9.7"
  }
 },
 "nbformat": 4,
 "nbformat_minor": 1
}
